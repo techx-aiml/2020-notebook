{
 "cells": [
  {
   "cell_type": "markdown",
   "metadata": {},
   "source": [
    "# LearningPyTorch\n",
    "🎵do you wanna learn some PyTorch?🎵\n",
    "\n",
    "🎵yes I wanna learn some PyTorch🎵"
   ]
  },
  {
   "cell_type": "code",
   "execution_count": 16,
   "metadata": {},
   "outputs": [],
   "source": [
    "# dependencies\n",
    "\n",
    "import torch\n",
    "import numpy as np"
   ]
  },
  {
   "cell_type": "markdown",
   "metadata": {},
   "source": [
    "## `torch` package\n",
    "这个部分会含括`torch`的基本数学功能，比如张量和张量操作。"
   ]
  },
  {
   "cell_type": "code",
   "execution_count": 17,
   "metadata": {},
   "outputs": [
    {
     "name": "stdout",
     "output_type": "stream",
     "text": [
      "an exmaple of tensor: \n",
      "tensor([1, 2, 3])\n",
      "\n",
      "an example of a 2D tensor: \n",
      "tensor([[1, 2],\n",
      "        [3, 4]])\n"
     ]
    }
   ],
   "source": [
    "# 张量（tensor）是一个任何维度的数组/矩阵（和numpy的array差不多）\n",
    "\n",
    "tensor = torch.tensor([1, 2, 3])\n",
    "tensor_2d = torch.tensor([[1, 2], [3, 4]])\n",
    "\n",
    "print(f'an exmaple of tensor: \\n{tensor}\\n')\n",
    "print(f'an example of a 2D tensor: \\n{tensor_2d}')"
   ]
  },
  {
   "cell_type": "code",
   "execution_count": 82,
   "metadata": {},
   "outputs": [
    {
     "name": "stdout",
     "output_type": "stream",
     "text": [
      "基础加法: tensor([1, 2, 3]) + 1 = tensor([2, 3, 4])\n",
      "\n",
      "乘法和次方是基于每个元素的: tensor([1, 2, 3]) ** 2 = tensor([1, 4, 9])\n",
      "\n",
      "点乘: tensor([1, 2, 3]) ⋅ tensor([1, 2, 3]) = 14\n",
      "\n",
      "位运算: tensor([1, 2, 3]) << 2 = tensor([ 4,  8, 12])\n"
     ]
    }
   ],
   "source": [
    "# 张量可以被用于数学运算\n",
    "\n",
    "tensor = torch.tensor([1, 2, 3])\n",
    "\n",
    "print(f'基础加法: {tensor} + 1 = {tensor + 1}\\n')\n",
    "print(f'乘法和次方是基于每个元素的: {tensor} ** 2 = {tensor ** 2}\\n')\n",
    "print(f'点乘: {tensor} ⋅ {tensor} = {tensor.dot(tensor)}\\n')\n",
    "print(f'位运算: {tensor} << 2 = {tensor << 2}')"
   ]
  },
  {
   "cell_type": "code",
   "execution_count": 48,
   "metadata": {},
   "outputs": [
    {
     "name": "stdout",
     "output_type": "stream",
     "text": [
      "original tensor after operation: tensor([ 49, 529, 682])\n",
      "results: tensor([147, 627, 780])\n",
      "\n",
      "original tensor after operation: tensor([102, 103, 105, 107, 111])\n",
      "results: tensor([102, 103, 105, 107, 111])\n",
      "\n"
     ]
    }
   ],
   "source": [
    "# 张量这个类里还有一些实用的函数\n",
    "\n",
    "# 正常情况下，这些函数的运算结果（一个新的张量）会被函数返回；但是，当在个别函数名后加上\n",
    "# 下划线（‘_’），函数的运算结果则会覆盖原来的变量的值，并返回该变量。\n",
    "\n",
    "# 没有‘_’\n",
    "tensor = torch.tensor([49, 529, 682]) # my favorite SCPs (owo)\n",
    "result = tensor.add(98)\n",
    "print(f'original tensor after operation: {tensor}')\n",
    "print(f'results: {result}\\n')\n",
    "# 运算后原张量的值不变\n",
    "\n",
    "# 有‘_’\n",
    "tensor = torch.tensor([2, 3, 5, 7, 11])\n",
    "result = tensor.add_(100)\n",
    "print(f'original tensor after operation: {tensor}')\n",
    "print(f'results: {result}\\n')\n",
    "# 现在，result和tensor指向的object是同一个"
   ]
  },
  {
   "cell_type": "code",
   "execution_count": 89,
   "metadata": {},
   "outputs": [
    {
     "name": "stdout",
     "output_type": "stream",
     "text": [
      "获取一个张量的元素的数量：6\n",
      "获取一个张量的形状：torch.Size([2, 3])\n"
     ]
    }
   ],
   "source": [
    "# 想获取关于一个张量的信息也很容易\n",
    "\n",
    "tensor = torch.tensor([[1, 2, 3], [4, 5, 6]])\n",
    "\n",
    "print(f'获取一个张量的元素的数量：{torch.numel(tensor)}')\n",
    "print(f'获取一个张量的形状：{tensor.shape}')\n",
    "# 获取形状用tensor.size()也可以，并且在转换成字节码后没有区别，但是不推荐\n",
    "# 原因是tensor.shape更贴近于numpy的风格，而numpy的风格正在逐渐转换成行业规范"
   ]
  },
  {
   "cell_type": "code",
   "execution_count": 91,
   "metadata": {},
   "outputs": [
    {
     "name": "stdout",
     "output_type": "stream",
     "text": [
      "tensor([1, 2, 3])\n",
      "tensor([[1, 2],\n",
      "        [3, 4]])\n"
     ]
    }
   ],
   "source": [
    "# 创建张量的方式有很多，之前的代码中也有torch.tensor的调用方法\n",
    "\n",
    "# Python列表式\n",
    "tensor = torch.tensor([1, 2, 3])\n",
    "print(tensor)\n",
    "\n",
    "# NumPy数组式\n",
    "array = np.array([[1, 2], [3, 4]])\n",
    "tensor = torch.tensor(array)\n",
    "print(tensor)\n",
    "\n",
    "# 注意：torch.tensor是对传入的参数进行深拷贝（不一定是真正意义上的深拷贝，但是效果一样）后创建新的\n",
    "# 张量。对新创建的张量进行改动不会影响原来的张量，并且用torch.tensor创建张量的时间复杂度至少O(N)。"
   ]
  },
  {
   "cell_type": "markdown",
   "metadata": {},
   "source": [
    "# 拓展\n",
    "这部分中大部分的函数都是用在torch内部的（或是用于基于torch的库），并不会在Intro to ML课程中特别用到。假如对torch内部不感兴趣的学员可以跳过这一段。"
   ]
  },
  {
   "cell_type": "code",
   "execution_count": 70,
   "metadata": {},
   "outputs": [
    {
     "data": {
      "text/plain": [
       "False"
      ]
     },
     "execution_count": 70,
     "metadata": {},
     "output_type": "execute_result"
    }
   ],
   "source": [
    "# 一些关于tensor的属性和操作\n",
    "\n",
    "tensor = torch.tensor([1, 2, 3])\n",
    "\n",
    "# 判断一个变量是否为torch的张量\n",
    "torch.is_tensor(tensor) # True\n",
    "torch.is_tensor([2, 3, 4]) # False \n",
    "\n",
    "# 判断一个变量是否为torch的储存类型\n",
    "# torch的储存类型通常是一个继承_StorageBase和与自己对应的C底层类的子类\n",
    "torch.is_storage(torch.DoubleStorage()) # True\n",
    "torch.is_storage(tensor) # False\n",
    "# 储存类型并不携带任何semantics"
   ]
  },
  {
   "cell_type": "code",
   "execution_count": 77,
   "metadata": {},
   "outputs": [
    {
     "name": "stdout",
     "output_type": "stream",
     "text": [
      "tensor默认的float dtype是float32: torch.float64\n",
      "\n",
      "更改之后的dtype: torch.float64\n"
     ]
    }
   ],
   "source": [
    "# 改变tensor默认的float dtype （data type）\n",
    "\n",
    "print(f'tensor默认的float dtype是float32: {torch.tensor([1.0, 2.0]).dtype}\\n')\n",
    "\n",
    "# 把默认改成float64\n",
    "torch.set_default_dtype(torch.float64)\n",
    "\n",
    "print(f'更改之后的dtype: {torch.tensor([1.0, 2.0]).dtype}')"
   ]
  },
  {
   "cell_type": "markdown",
   "metadata": {},
   "source": [
    "## Autograd是什么\n",
    "这段可能难度稍微高一些，并且以后的课上也会有详细的讲解。假如学员阅读这一段有困难则可以跳过。\n",
    "\n",
    "`TODO: actually write this part`"
   ]
  },
  {
   "cell_type": "code",
   "execution_count": null,
   "metadata": {},
   "outputs": [],
   "source": []
  }
 ],
 "metadata": {
  "kernelspec": {
   "display_name": "Python 3",
   "language": "python",
   "name": "python3"
  },
  "language_info": {
   "codemirror_mode": {
    "name": "ipython",
    "version": 3
   },
   "file_extension": ".py",
   "mimetype": "text/x-python",
   "name": "python",
   "nbconvert_exporter": "python",
   "pygments_lexer": "ipython3",
   "version": "3.7.2"
  }
 },
 "nbformat": 4,
 "nbformat_minor": 2
}
