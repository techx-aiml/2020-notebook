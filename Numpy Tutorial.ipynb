{
 "cells": [
  {
   "cell_type": "markdown",
   "metadata": {},
   "source": [
    "# Learning NumPy\n",
    "🎵do you wanna learn some NumPy?🎵\n",
    "\n",
    "🎵yes I wanna learn some NumPy🎵"
   ]
  },
  {
   "cell_type": "code",
   "execution_count": 2,
   "metadata": {},
   "outputs": [],
   "source": [
    "# 导入numpy\n",
    "\n",
    "\n",
    "import numpy"
   ]
  },
  {
   "cell_type": "code",
   "execution_count": 4,
   "metadata": {},
   "outputs": [
    {
     "name": "stdout",
     "output_type": "stream",
     "text": [
      "数组的形状：(2, 3)\n",
      "数组的维度：2\n",
      "第一排第二列的元素：5\n",
      "[5 6]\n"
     ]
    }
   ],
   "source": [
    "# 基础\n",
    "# 一些基本的数组操作\n",
    "\n",
    "\n",
    "# 创建数组\n",
    "array = numpy.array([[1, 2, 3], [3, 4, 5]])\n",
    "\n",
    "print(f'数组的形状：{array.shape}')\n",
    "print(f'数组的维度：{array.ndim}')\n",
    "\n",
    "\n",
    "# 索引数组的方式和原版Python列表一样：把序号写在方括号里，只不过是把所有axes的序号一次性用元组传进去\n",
    "print(f'第一排第二列的元素：{array[1, 2]}')\n",
    "\n",
    "\n",
    "# 可以通过numpy.arange来生成一个区间的数组（比如numpy.arange(10, 20)就是[10, 11, 12... 19]）\n",
    "array = numpy.arange(10)\n",
    "\n",
    "\n",
    "# 用':'可以切出一段数组。以下例子中是切出第5位 (包括) 直到第7位 (不包括)\n",
    "print(array[5:7])"
   ]
  },
  {
   "cell_type": "code",
   "execution_count": 11,
   "metadata": {},
   "outputs": [
    {
     "name": "stdout",
     "output_type": "stream",
     "text": [
      "切取从(0, 0)到(1, 1)的2*2数组：\n",
      "[[1 2]\n",
      " [3 4]]\n",
      "\n",
      "右下角2x2区间被更改后的数组：\n",
      "[[1 2 3]\n",
      " [3 0 1]\n",
      " [7 2 3]]\n"
     ]
    }
   ],
   "source": [
    "# 更多的数组切割\n",
    "\n",
    "array = numpy.array([[1, 2, 3], [3, 4, 5], [7, 8, 9]])\n",
    "\n",
    "print(f'切取从(0, 0)到(1, 1)的2*2数组：\\n{array[:2, :2]}\\n')\n",
    "\n",
    "\n",
    "# 可以用同样的方法设置一个N维区间内的元素\n",
    "new_array = numpy.array([[0, 1], [2, 3]])\n",
    "array[1:, 1:] = new_array\n",
    "print(f'右下角2x2区间被更改后的数组：\\n{array}')"
   ]
  },
  {
   "cell_type": "code",
   "execution_count": 28,
   "metadata": {},
   "outputs": [
    {
     "name": "stdout",
     "output_type": "stream",
     "text": [
      "[[0.5920758  0.78857111 0.40950326 0.35881491 0.2600325  0.707061  ]\n",
      " [0.33864134 0.29343751 0.82797005 0.03003532 0.29185704 0.59990065]\n",
      " [0.09550392 0.33915139 0.83785956 0.24410077 0.4495007  0.07075992]\n",
      " [0.1331531  0.31652531 0.34334178 0.25362368 0.52792837 0.91176916]\n",
      " [0.70838711 0.33251414 0.50797891 0.78953598 0.75288181 0.31528698]]\n",
      "\n",
      "[[-0.39485218  1.4422294   2.56740208  1.71517311]\n",
      " [-0.43982589  0.88337603 -0.59430382 -0.24361299]\n",
      " [-1.12560272 -1.30169155 -1.36480197 -0.13930819]]\n"
     ]
    }
   ],
   "source": [
    "# 奇奇怪怪的数组创建\n",
    "\n",
    "all_ones = numpy.ones((3, 4)) # 创建一个3 * 4的元素全是1的数组\n",
    "all_zeros = numpy.zeros((5, 6)) # 创建一个5 * 6的元素全是0的数组\n",
    "full_array = numpy.full((3, 3), 5) # 前一个参数定义数组大小，后一个定义用什么值填满数组\n",
    "\n",
    "identity_matrix = numpy.identity(5) # 生成单位矩阵\n",
    "\n",
    "\n",
    "# 随机数呀随机数\n",
    "\n",
    "random_sample_array = numpy.random.random_sample((5, 6)) # 生成的数字是在[0, 1]之间均匀分布的\n",
    "standard_normal_array = numpy.random.standard_normal((3, 4)) # 生成的数字是在[-1, 1]之间正态分布的\n",
    "\n",
    "print(random_sample_array)\n",
    "print()\n",
    "print(standard_normal_array)\n",
    "\n",
    "# 注：numpy.random.random_sample和numpy.random.rand作用一样；\n",
    "# numpy.random.standard_normal和numpy.random.randn作用一样\n",
    "# 两种情况下后者都是前者的缩写，但是由于后者的参数是以多个数字参数传入数组大小（而不是通过一个元组传入），\n",
    "# 并和正常的numpy函数的规范不统一（导致新学员可能记不住），所以这里推荐用前者，也就是全称"
   ]
  },
  {
   "cell_type": "code",
   "execution_count": 66,
   "metadata": {
    "scrolled": false
   },
   "outputs": [
    {
     "name": "stdout",
     "output_type": "stream",
     "text": [
      "True\n",
      "False\n"
     ]
    }
   ],
   "source": [
    "# 更多数组操作\n",
    "\n",
    "\n",
    "# 拷贝并延长一段数组（延长的维度必须是一个已经存在的维度）\n",
    "# 延长时所使用的数组、延长后的数组、延长后的数组的每一个循环的部分均是不同的内存\n",
    "array = numpy.array([[1, 2, 3]])\n",
    "repeated_array = numpy.repeat(array, 3, axis=0)\n",
    "\n",
    "\n",
    "# 如何拷贝数组\n",
    "arxiv = numpy.array([10, 20, 30])\n",
    "\n",
    "my_program = arxiv # 这样的话两个变量指向的还是同一个值\n",
    "print(my_program is arxiv) # True\n",
    "\n",
    "my_paper = arxiv.copy() # 拷贝整个array的值\n",
    "print(my_paper is arxiv) # False"
   ]
  },
  {
   "cell_type": "code",
   "execution_count": 44,
   "metadata": {},
   "outputs": [
    {
     "name": "stdout",
     "output_type": "stream",
     "text": [
      "基础加法: [1 2 3] + 1 = [2 3 4]\n",
      "\n",
      "乘法和次方是基于每个元素的: [1 2 3] ** 2 = [1 4 9]\n",
      "\n",
      "点乘: [1 2 3] ⋅ [1 2 3] = 14\n",
      "\n",
      "位运算: [1 2 3] << 2 = [ 4  8 12]\n"
     ]
    }
   ],
   "source": [
    "# 数学操作\n",
    "\n",
    "\n",
    "array = numpy.array([1, 2, 3])\n",
    "\n",
    "print(f'基础加法: {array} + 1 = {array + 1}\\n')\n",
    "print(f'乘法和次方是基于每个元素的: {array} ** 2 = {array ** 2}\\n')\n",
    "print(f'点乘: {array} ⋅ {array} = {array.dot(array)}\\n')\n",
    "print(f'位运算: {array} << 2 = {array << 2}')"
   ]
  },
  {
   "cell_type": "code",
   "execution_count": 64,
   "metadata": {},
   "outputs": [
    {
     "name": "stdout",
     "output_type": "stream",
     "text": [
      "复习一下numpy.arange：[0 1 2 3 4 5 6 7 8 9]\n",
      "数组哪些位置上的元素大于5：[False False False False False False  True  True  True  True]\n",
      "数组哪些位置上的元素是偶数：[ True False  True False  True False  True False  True False]\n",
      "数组里所有大于5的元素：[6 7 8 9]\n",
      "数组里所有是偶数的元素：[0 2 4 6 8]\n"
     ]
    }
   ],
   "source": [
    "# 数组元素挑选方式\n",
    "\n",
    "\n",
    "array = numpy.arange(10)\n",
    "print(f'复习一下numpy.arange：{array}')\n",
    "\n",
    "# 在判断语句中比较数组和单个数字元素会返回一个和原数组大小一样的布尔数组\n",
    "# 布尔数组里的每个元素意味着原数组在这个位置下的值在判断中是否为True\n",
    "print(f'数组哪些位置上的元素大于5：{array > 5}')\n",
    "# 元素大于5的位置上是True，而其余位置上是False\n",
    "\n",
    "# 再举个例子\n",
    "print(f'数组哪些位置上的元素是偶数：{array & 1 == 0}')\n",
    "\n",
    "# 用一个形状相同的布尔数组来索引一个数组会返回一个只包含在布尔数组里为True的位置上的值的数组\n",
    "# 和上面的方式相结合，可以轻易过滤出一个数组里符合判断的元素\n",
    "print(f'数组里所有大于5的元素：{array[array > 5]}')\n",
    "print(f'数组里所有是偶数的元素：{array[array & 1 == 0]}')"
   ]
  },
  {
   "cell_type": "code",
   "execution_count": 33,
   "metadata": {},
   "outputs": [
    {
     "name": "stdout",
     "output_type": "stream",
     "text": [
      "['曼' '哈' '顿' '曼' '哈' '顿' '！' '！']\n",
      "复习一下Python-把字符转换成unicode：A -> 65\n",
      "[26364 21704 39039 26364 21704 39039 65281 65281]\n",
      "[ 0.  1.  1.  9.  2. 25.  3. 49.  4. 81.]\n"
     ]
    }
   ],
   "source": [
    "# 批量处理\n",
    "\n",
    "\n",
    "# BTW数组里还可以包含字符... 虽然基本上永远不会用到\n",
    "char_array = numpy.array(list('曼哈顿曼哈顿！！'))\n",
    "print(char_array)\n",
    "\n",
    "print(f'复习一下Python-把字符转换成unicode：A -> {ord(\"A\")}')\n",
    "vectorize = numpy.vectorize(ord)\n",
    "unicode_array = vectorize(char_array)\n",
    "print(unicode_array)\n",
    "\n",
    "# numpy.vectorize的返回值（vectorize object）会把传入的参数直接扔进创建时所给的function\n",
    "# 用法和Python的map很像，只不过是遵循NumPy的broadcast规则\n",
    "\n",
    "# 再举个复杂点的例子（所有偶数除以N；所有奇数平方）\n",
    "N = 2\n",
    "array = numpy.arange(10)\n",
    "vectorize_func = numpy.vectorize(lambda a, b: a ** 2 if a & 1 == 1 else a / b)\n",
    "print(vectorize_func(array, N))"
   ]
  },
  {
   "cell_type": "code",
   "execution_count": 24,
   "metadata": {},
   "outputs": [
    {
     "ename": "SyntaxError",
     "evalue": "invalid syntax (<ipython-input-24-699d77ad1463>, line 1)",
     "output_type": "error",
     "traceback": [
      "\u001b[0;36m  File \u001b[0;32m\"<ipython-input-24-699d77ad1463>\"\u001b[0;36m, line \u001b[0;32m1\u001b[0m\n\u001b[0;31m    print(f'{ord('A')}')\u001b[0m\n\u001b[0m                  ^\u001b[0m\n\u001b[0;31mSyntaxError\u001b[0m\u001b[0;31m:\u001b[0m invalid syntax\n"
     ]
    }
   ],
   "source": []
  },
  {
   "cell_type": "code",
   "execution_count": null,
   "metadata": {},
   "outputs": [],
   "source": []
  }
 ],
 "metadata": {
  "kernelspec": {
   "display_name": "Python 3",
   "language": "python",
   "name": "python3"
  },
  "language_info": {
   "codemirror_mode": {
    "name": "ipython",
    "version": 3
   },
   "file_extension": ".py",
   "mimetype": "text/x-python",
   "name": "python",
   "nbconvert_exporter": "python",
   "pygments_lexer": "ipython3",
   "version": "3.7.7"
  }
 },
 "nbformat": 4,
 "nbformat_minor": 2
}
